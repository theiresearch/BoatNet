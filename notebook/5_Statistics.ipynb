{
 "cells": [
  {
   "cell_type": "code",
   "execution_count": 1,
   "metadata": {
    "cell_id": "00000-8cc66df6-45ce-4cfc-b3c9-aedf5ca6cede",
    "deepnote_cell_type": "code",
    "deepnote_to_be_reexecuted": false,
    "execution_millis": 3,
    "execution_start": 1628873995168,
    "source_hash": "aeeebb30",
    "tags": []
   },
   "outputs": [],
   "source": [
    "import pandas as pd\n",
    "import numpy as np\n",
    "import os\n",
    "from PIL import Image"
   ]
  },
  {
   "cell_type": "code",
   "execution_count": 2,
   "metadata": {
    "cell_id": "00001-68b63998-f320-4a7f-97f5-09c368f3542f",
    "deepnote_cell_type": "code",
    "deepnote_to_be_reexecuted": false,
    "execution_millis": 1,
    "execution_start": 1628873995174,
    "source_hash": "79b30cfb",
    "tags": []
   },
   "outputs": [],
   "source": [
    "def OrderofYearMonth(file):\n",
    "    return(file[-13:-4])\n",
    "\n",
    "#   Y   Y   Y   Y  M  M  _  X  X\n",
    "# -13 -12 -11 -10 -9 -8 -7 -6 -5"
   ]
  },
  {
   "cell_type": "code",
   "execution_count": 3,
   "metadata": {
    "cell_id": "00004-05498e44-65af-43bf-a317-29195c20fa77",
    "deepnote_cell_type": "code",
    "deepnote_to_be_reexecuted": false,
    "execution_millis": 0,
    "execution_start": 1628873995216,
    "source_hash": "da3e2c4c",
    "tags": []
   },
   "outputs": [],
   "source": [
    "def statistics_boats(Location, Year, jpg_folder, csv_download_folder):\n",
    "    labels_folder = jpg_folder+\"labels/\"\n",
    "    labels_folder_list = os.listdir(labels_folder)\n",
    "    \n",
    "    csv_file_name = csv_download_folder + Location + '_' + str(Year) + '.csv'\n",
    "    \n",
    "    list_of_unsorted_files=[]\n",
    "    list_of_files=[]\n",
    "    small = [0,0,0,0,0,0,0,0,0,0,0,0,0]\n",
    "    large = [0,0,0,0,0,0,0,0,0,0,0,0,0]\n",
    "    small_white_boat_in_this_area = [0,0,0,0,0,0,0,0,0,0,0,0,0]\n",
    "    Months = ['', 'Jan', 'Feb', 'Mar', 'Apr', 'May', 'Jun', 'July', 'Aug', 'Sep', 'Oct', 'Nov', 'Dec']\n",
    "    zero_to_nine = [0,1,2,3,4,5,6,7,8,9]\n",
    "\n",
    "    # Creates pandas DataFrame with empty data of lists\n",
    "    data = {}\n",
    "    Table = pd.DataFrame(data, index =['Boats length < 24 meters','Boats length >= 24 meters', 'Small White Boats'])\n",
    "\n",
    "    \n",
    "    # Sorted files\n",
    "    for file in labels_folder_list:\n",
    "        if file.endswith('txt'): # check the extension of a file\n",
    "            list_of_unsorted_files.append(file)\n",
    "    list_of_files = sorted(list_of_unsorted_files, key = OrderofYearMonth)\n",
    "    #print(list_of_files)\n",
    "\n",
    "    \n",
    "    # Statistics\n",
    "    for sorted_file in list_of_files:\n",
    "        for i in range(1,10):\n",
    "            for j in range(0,2):\n",
    "                if sorted_file[-9] == str(j) and sorted_file[-8] == str(i):\n",
    "                    df = pd.read_table(labels_folder+sorted_file, delimiter = \" \", names=(\"Boat=0\", \"X\", \"Y\", \"Width\", \"Height\", \"Length\"))\n",
    "                    df['x_min'] = round((df[\"X\"] - 0.5*df[\"Width\"])*3840)\n",
    "                    df['x_max'] = round((df[\"X\"] + 0.5*df[\"Width\"])*3840)\n",
    "                    df['y_min'] = round((df[\"Y\"] - 0.5*df[\"Height\"])*2160)\n",
    "                    df['y_max'] = round((df[\"Y\"] + 0.5*df[\"Height\"])*2160)\n",
    "                    #print(len(df))\n",
    "                    for length in df['Length']:\n",
    "                        if length < 24:\n",
    "                            small[i+10*j] += 1\n",
    "                        elif length >= 24:\n",
    "                            large[i+10*j] += 1\n",
    "                    \n",
    "                    ### SMALL WHITE BOATS ###\n",
    "                    #print(sorted_file)\n",
    "                    im = Image.open(jpg_folder + sorted_file.replace('txt','jpg'))\n",
    "                    array = np.array(im)\n",
    "                    count_white = 0\n",
    "                    count_all = 0\n",
    "\n",
    "                    for index in range(0,len(df)): # 1st row, ...\n",
    "                        #print(x_min)\n",
    "                        if df['Length'][index] < 24:\n",
    "                            x_min = int(df['x_min'][index])\n",
    "                            x_max = int(df['x_max'][index])\n",
    "                            y_min = int(df['y_min'][index])\n",
    "                            y_max = int(df['y_max'][index])\n",
    "                            #print(y_max)\n",
    "                            for m in range(x_min, x_max):\n",
    "                                for n in range(y_min,y_max):\n",
    "                                    s = array[n,m]\n",
    "                                    g = s[0]*0.299 + s[1]*0.587 + s[2]*0.114 # 根据RGB值判断颜色是否深浅色\n",
    "                                    if g>80:\n",
    "                                        count_white += 1\n",
    "                                        count_all += 1\n",
    "                                    else:\n",
    "                                        count_all += 1\n",
    "                                        pass\n",
    "                            if ((count_white/count_all)>0.5) is True:\n",
    "                                small_white_boat_in_this_area[i+10*j] += 1 #/ len(list_of_files)\n",
    "                            else:\n",
    "                                pass\n",
    "                        #print(small_white_boat_in_this_area)\n",
    "                    ### SMALL WHITE BOATS ###\n",
    "                    Table[Months[i+10*j]] = [int(small[i+10*j]), int(large[i+10*j]), int(small_white_boat_in_this_area[i+10*j])]\n",
    "                    \n",
    "\n",
    "    # print the data\n",
    "    s = Table.style.set_table_attributes(\"style='display:inline'\").set_caption(Location + \" \" + str(Year))\n",
    "    Table.to_csv(csv_file_name)\n",
    "    return(s)"
   ]
  },
  {
   "cell_type": "code",
   "execution_count": 4,
   "metadata": {},
   "outputs": [
    {
     "data": {
      "text/plain": [
       "'\\nstatistics_boats(Location=\"\", Year=, \\n                 labels_folder = \"\", \\n                 csv_download_folder = \"/Users/realgjl/Desktop/BENV0096/5a_CSVs/\")\\n'"
      ]
     },
     "execution_count": 4,
     "metadata": {},
     "output_type": "execute_result"
    }
   ],
   "source": [
    "\"\"\"\n",
    "statistics_boats(Location=\"\", Year=, \n",
    "                 labels_folder = \"\", \n",
    "                 csv_download_folder = \"/Users/realgjl/Desktop/BENV0096/5a_CSVs/\")\n",
    "\"\"\""
   ]
  },
  {
   "cell_type": "code",
   "execution_count": 5,
   "metadata": {},
   "outputs": [],
   "source": [
    "# Test block\n",
    "#statistics_boats(Location=\"SantaRosalia\", Year=2019, \n",
    "#                 jpg_folder = \"/Users/realgjl/Downloads/\", \n",
    "#                 csv_download_folder = \"/Users/realgjl/Desktop/BENV0096/5a_CSVs/\")"
   ]
  },
  {
   "cell_type": "code",
   "execution_count": 6,
   "metadata": {
    "cell_id": "00006-4382f282-2035-4485-9f49-543c067cc6b3",
    "deepnote_cell_type": "code",
    "deepnote_to_be_reexecuted": false,
    "execution_millis": 13,
    "execution_start": 1628873995218,
    "source_hash": "411466d4",
    "tags": []
   },
   "outputs": [
    {
     "data": {
      "text/html": [
       "<style type=\"text/css\">\n",
       "</style>\n",
       "<table id=\"T_6146c_\" style='display:inline'>\n",
       "  <caption>SantaRosalia 2019</caption>\n",
       "  <thead>\n",
       "    <tr>\n",
       "      <th class=\"blank level0\" >&nbsp;</th>\n",
       "      <th class=\"col_heading level0 col0\" >Jan</th>\n",
       "      <th class=\"col_heading level0 col1\" >July</th>\n",
       "      <th class=\"col_heading level0 col2\" >Aug</th>\n",
       "      <th class=\"col_heading level0 col3\" >Sep</th>\n",
       "      <th class=\"col_heading level0 col4\" >Dec</th>\n",
       "    </tr>\n",
       "  </thead>\n",
       "  <tbody>\n",
       "    <tr>\n",
       "      <th id=\"T_6146c_level0_row0\" class=\"row_heading level0 row0\" >Boats length < 24 meters</th>\n",
       "      <td id=\"T_6146c_row0_col0\" class=\"data row0 col0\" >27</td>\n",
       "      <td id=\"T_6146c_row0_col1\" class=\"data row0 col1\" >41</td>\n",
       "      <td id=\"T_6146c_row0_col2\" class=\"data row0 col2\" >36</td>\n",
       "      <td id=\"T_6146c_row0_col3\" class=\"data row0 col3\" >29</td>\n",
       "      <td id=\"T_6146c_row0_col4\" class=\"data row0 col4\" >22</td>\n",
       "    </tr>\n",
       "    <tr>\n",
       "      <th id=\"T_6146c_level0_row1\" class=\"row_heading level0 row1\" >Boats length >= 24 meters</th>\n",
       "      <td id=\"T_6146c_row1_col0\" class=\"data row1 col0\" >0</td>\n",
       "      <td id=\"T_6146c_row1_col1\" class=\"data row1 col1\" >2</td>\n",
       "      <td id=\"T_6146c_row1_col2\" class=\"data row1 col2\" >1</td>\n",
       "      <td id=\"T_6146c_row1_col3\" class=\"data row1 col3\" >0</td>\n",
       "      <td id=\"T_6146c_row1_col4\" class=\"data row1 col4\" >2</td>\n",
       "    </tr>\n",
       "    <tr>\n",
       "      <th id=\"T_6146c_level0_row2\" class=\"row_heading level0 row2\" >Small White Boats</th>\n",
       "      <td id=\"T_6146c_row2_col0\" class=\"data row2 col0\" >25</td>\n",
       "      <td id=\"T_6146c_row2_col1\" class=\"data row2 col1\" >41</td>\n",
       "      <td id=\"T_6146c_row2_col2\" class=\"data row2 col2\" >35</td>\n",
       "      <td id=\"T_6146c_row2_col3\" class=\"data row2 col3\" >29</td>\n",
       "      <td id=\"T_6146c_row2_col4\" class=\"data row2 col4\" >22</td>\n",
       "    </tr>\n",
       "  </tbody>\n",
       "</table>\n"
      ],
      "text/plain": [
       "<pandas.io.formats.style.Styler at 0x7fcb481c9a60>"
      ]
     },
     "execution_count": 6,
     "metadata": {},
     "output_type": "execute_result"
    }
   ],
   "source": [
    "statistics_boats(Location=\"SantaRosalia\", Year=2019, \n",
    "                 jpg_folder = \"/Users/realgjl/Desktop/BENV0096/3a_Sharpened_SantaRosalia/2019/\", \n",
    "                 csv_download_folder = \"/Users/realgjl/Desktop/BENV0096/5a_CSVs/\")"
   ]
  },
  {
   "cell_type": "code",
   "execution_count": 7,
   "metadata": {},
   "outputs": [
    {
     "data": {
      "text/html": [
       "<style type=\"text/css\">\n",
       "</style>\n",
       "<table id=\"T_88471_\" style='display:inline'>\n",
       "  <caption>SantaRosalia 2020</caption>\n",
       "  <thead>\n",
       "    <tr>\n",
       "      <th class=\"blank level0\" >&nbsp;</th>\n",
       "      <th class=\"col_heading level0 col0\" >Jan</th>\n",
       "      <th class=\"col_heading level0 col1\" >Feb</th>\n",
       "      <th class=\"col_heading level0 col2\" >Mar</th>\n",
       "      <th class=\"col_heading level0 col3\" >Apr</th>\n",
       "      <th class=\"col_heading level0 col4\" >May</th>\n",
       "      <th class=\"col_heading level0 col5\" >Jun</th>\n",
       "      <th class=\"col_heading level0 col6\" >July</th>\n",
       "      <th class=\"col_heading level0 col7\" >Aug</th>\n",
       "      <th class=\"col_heading level0 col8\" >Sep</th>\n",
       "      <th class=\"col_heading level0 col9\" >Nov</th>\n",
       "      <th class=\"col_heading level0 col10\" >Dec</th>\n",
       "    </tr>\n",
       "  </thead>\n",
       "  <tbody>\n",
       "    <tr>\n",
       "      <th id=\"T_88471_level0_row0\" class=\"row_heading level0 row0\" >Boats length < 24 meters</th>\n",
       "      <td id=\"T_88471_row0_col0\" class=\"data row0 col0\" >50</td>\n",
       "      <td id=\"T_88471_row0_col1\" class=\"data row0 col1\" >43</td>\n",
       "      <td id=\"T_88471_row0_col2\" class=\"data row0 col2\" >37</td>\n",
       "      <td id=\"T_88471_row0_col3\" class=\"data row0 col3\" >48</td>\n",
       "      <td id=\"T_88471_row0_col4\" class=\"data row0 col4\" >8</td>\n",
       "      <td id=\"T_88471_row0_col5\" class=\"data row0 col5\" >44</td>\n",
       "      <td id=\"T_88471_row0_col6\" class=\"data row0 col6\" >66</td>\n",
       "      <td id=\"T_88471_row0_col7\" class=\"data row0 col7\" >58</td>\n",
       "      <td id=\"T_88471_row0_col8\" class=\"data row0 col8\" >58</td>\n",
       "      <td id=\"T_88471_row0_col9\" class=\"data row0 col9\" >43</td>\n",
       "      <td id=\"T_88471_row0_col10\" class=\"data row0 col10\" >57</td>\n",
       "    </tr>\n",
       "    <tr>\n",
       "      <th id=\"T_88471_level0_row1\" class=\"row_heading level0 row1\" >Boats length >= 24 meters</th>\n",
       "      <td id=\"T_88471_row1_col0\" class=\"data row1 col0\" >1</td>\n",
       "      <td id=\"T_88471_row1_col1\" class=\"data row1 col1\" >1</td>\n",
       "      <td id=\"T_88471_row1_col2\" class=\"data row1 col2\" >1</td>\n",
       "      <td id=\"T_88471_row1_col3\" class=\"data row1 col3\" >1</td>\n",
       "      <td id=\"T_88471_row1_col4\" class=\"data row1 col4\" >0</td>\n",
       "      <td id=\"T_88471_row1_col5\" class=\"data row1 col5\" >1</td>\n",
       "      <td id=\"T_88471_row1_col6\" class=\"data row1 col6\" >3</td>\n",
       "      <td id=\"T_88471_row1_col7\" class=\"data row1 col7\" >1</td>\n",
       "      <td id=\"T_88471_row1_col8\" class=\"data row1 col8\" >1</td>\n",
       "      <td id=\"T_88471_row1_col9\" class=\"data row1 col9\" >1</td>\n",
       "      <td id=\"T_88471_row1_col10\" class=\"data row1 col10\" >1</td>\n",
       "    </tr>\n",
       "    <tr>\n",
       "      <th id=\"T_88471_level0_row2\" class=\"row_heading level0 row2\" >Small White Boats</th>\n",
       "      <td id=\"T_88471_row2_col0\" class=\"data row2 col0\" >37</td>\n",
       "      <td id=\"T_88471_row2_col1\" class=\"data row2 col1\" >42</td>\n",
       "      <td id=\"T_88471_row2_col2\" class=\"data row2 col2\" >37</td>\n",
       "      <td id=\"T_88471_row2_col3\" class=\"data row2 col3\" >43</td>\n",
       "      <td id=\"T_88471_row2_col4\" class=\"data row2 col4\" >6</td>\n",
       "      <td id=\"T_88471_row2_col5\" class=\"data row2 col5\" >42</td>\n",
       "      <td id=\"T_88471_row2_col6\" class=\"data row2 col6\" >65</td>\n",
       "      <td id=\"T_88471_row2_col7\" class=\"data row2 col7\" >54</td>\n",
       "      <td id=\"T_88471_row2_col8\" class=\"data row2 col8\" >58</td>\n",
       "      <td id=\"T_88471_row2_col9\" class=\"data row2 col9\" >41</td>\n",
       "      <td id=\"T_88471_row2_col10\" class=\"data row2 col10\" >56</td>\n",
       "    </tr>\n",
       "  </tbody>\n",
       "</table>\n"
      ],
      "text/plain": [
       "<pandas.io.formats.style.Styler at 0x7fcb482041f0>"
      ]
     },
     "execution_count": 7,
     "metadata": {},
     "output_type": "execute_result"
    }
   ],
   "source": [
    "statistics_boats(Location=\"SantaRosalia\", Year=2020, \n",
    "                 jpg_folder = \"/Users/realgjl/Desktop/BENV0096/3a_Sharpened_SantaRosalia/2020/\", \n",
    "                 csv_download_folder = \"/Users/realgjl/Desktop/BENV0096/5a_CSVs/\")\n"
   ]
  },
  {
   "cell_type": "code",
   "execution_count": 8,
   "metadata": {},
   "outputs": [
    {
     "data": {
      "text/html": [
       "<style type=\"text/css\">\n",
       "</style>\n",
       "<table id=\"T_72e40_\" style='display:inline'>\n",
       "  <caption>SantaRosalia 2021</caption>\n",
       "  <thead>\n",
       "    <tr>\n",
       "      <th class=\"blank level0\" >&nbsp;</th>\n",
       "      <th class=\"col_heading level0 col0\" >Apr</th>\n",
       "      <th class=\"col_heading level0 col1\" >May</th>\n",
       "    </tr>\n",
       "  </thead>\n",
       "  <tbody>\n",
       "    <tr>\n",
       "      <th id=\"T_72e40_level0_row0\" class=\"row_heading level0 row0\" >Boats length < 24 meters</th>\n",
       "      <td id=\"T_72e40_row0_col0\" class=\"data row0 col0\" >32</td>\n",
       "      <td id=\"T_72e40_row0_col1\" class=\"data row0 col1\" >46</td>\n",
       "    </tr>\n",
       "    <tr>\n",
       "      <th id=\"T_72e40_level0_row1\" class=\"row_heading level0 row1\" >Boats length >= 24 meters</th>\n",
       "      <td id=\"T_72e40_row1_col0\" class=\"data row1 col0\" >1</td>\n",
       "      <td id=\"T_72e40_row1_col1\" class=\"data row1 col1\" >2</td>\n",
       "    </tr>\n",
       "    <tr>\n",
       "      <th id=\"T_72e40_level0_row2\" class=\"row_heading level0 row2\" >Small White Boats</th>\n",
       "      <td id=\"T_72e40_row2_col0\" class=\"data row2 col0\" >32</td>\n",
       "      <td id=\"T_72e40_row2_col1\" class=\"data row2 col1\" >46</td>\n",
       "    </tr>\n",
       "  </tbody>\n",
       "</table>\n"
      ],
      "text/plain": [
       "<pandas.io.formats.style.Styler at 0x7fcb48195d90>"
      ]
     },
     "execution_count": 8,
     "metadata": {},
     "output_type": "execute_result"
    }
   ],
   "source": [
    "statistics_boats(Location=\"SantaRosalia\", Year=2021, \n",
    "                 jpg_folder = \"/Users/realgjl/Desktop/BENV0096/3a_Sharpened_SantaRosalia/2021/\", \n",
    "                 csv_download_folder = \"/Users/realgjl/Desktop/BENV0096/5a_CSVs/\")"
   ]
  },
  {
   "cell_type": "code",
   "execution_count": 9,
   "metadata": {},
   "outputs": [
    {
     "data": {
      "text/html": [
       "<style type=\"text/css\">\n",
       "</style>\n",
       "<table id=\"T_7f3ed_\" style='display:inline'>\n",
       "  <caption>Loreto 2019</caption>\n",
       "  <thead>\n",
       "    <tr>\n",
       "      <th class=\"blank level0\" >&nbsp;</th>\n",
       "      <th class=\"col_heading level0 col0\" >Jan</th>\n",
       "      <th class=\"col_heading level0 col1\" >Apr</th>\n",
       "      <th class=\"col_heading level0 col2\" >Jun</th>\n",
       "      <th class=\"col_heading level0 col3\" >July</th>\n",
       "      <th class=\"col_heading level0 col4\" >Aug</th>\n",
       "      <th class=\"col_heading level0 col5\" >Sep</th>\n",
       "      <th class=\"col_heading level0 col6\" >Nov</th>\n",
       "      <th class=\"col_heading level0 col7\" >Dec</th>\n",
       "    </tr>\n",
       "  </thead>\n",
       "  <tbody>\n",
       "    <tr>\n",
       "      <th id=\"T_7f3ed_level0_row0\" class=\"row_heading level0 row0\" >Boats length < 24 meters</th>\n",
       "      <td id=\"T_7f3ed_row0_col0\" class=\"data row0 col0\" >40</td>\n",
       "      <td id=\"T_7f3ed_row0_col1\" class=\"data row0 col1\" >60</td>\n",
       "      <td id=\"T_7f3ed_row0_col2\" class=\"data row0 col2\" >18</td>\n",
       "      <td id=\"T_7f3ed_row0_col3\" class=\"data row0 col3\" >49</td>\n",
       "      <td id=\"T_7f3ed_row0_col4\" class=\"data row0 col4\" >33</td>\n",
       "      <td id=\"T_7f3ed_row0_col5\" class=\"data row0 col5\" >42</td>\n",
       "      <td id=\"T_7f3ed_row0_col6\" class=\"data row0 col6\" >38</td>\n",
       "      <td id=\"T_7f3ed_row0_col7\" class=\"data row0 col7\" >17</td>\n",
       "    </tr>\n",
       "    <tr>\n",
       "      <th id=\"T_7f3ed_level0_row1\" class=\"row_heading level0 row1\" >Boats length >= 24 meters</th>\n",
       "      <td id=\"T_7f3ed_row1_col0\" class=\"data row1 col0\" >0</td>\n",
       "      <td id=\"T_7f3ed_row1_col1\" class=\"data row1 col1\" >1</td>\n",
       "      <td id=\"T_7f3ed_row1_col2\" class=\"data row1 col2\" >0</td>\n",
       "      <td id=\"T_7f3ed_row1_col3\" class=\"data row1 col3\" >0</td>\n",
       "      <td id=\"T_7f3ed_row1_col4\" class=\"data row1 col4\" >1</td>\n",
       "      <td id=\"T_7f3ed_row1_col5\" class=\"data row1 col5\" >0</td>\n",
       "      <td id=\"T_7f3ed_row1_col6\" class=\"data row1 col6\" >1</td>\n",
       "      <td id=\"T_7f3ed_row1_col7\" class=\"data row1 col7\" >0</td>\n",
       "    </tr>\n",
       "    <tr>\n",
       "      <th id=\"T_7f3ed_level0_row2\" class=\"row_heading level0 row2\" >Small White Boats</th>\n",
       "      <td id=\"T_7f3ed_row2_col0\" class=\"data row2 col0\" >40</td>\n",
       "      <td id=\"T_7f3ed_row2_col1\" class=\"data row2 col1\" >55</td>\n",
       "      <td id=\"T_7f3ed_row2_col2\" class=\"data row2 col2\" >18</td>\n",
       "      <td id=\"T_7f3ed_row2_col3\" class=\"data row2 col3\" >49</td>\n",
       "      <td id=\"T_7f3ed_row2_col4\" class=\"data row2 col4\" >33</td>\n",
       "      <td id=\"T_7f3ed_row2_col5\" class=\"data row2 col5\" >41</td>\n",
       "      <td id=\"T_7f3ed_row2_col6\" class=\"data row2 col6\" >37</td>\n",
       "      <td id=\"T_7f3ed_row2_col7\" class=\"data row2 col7\" >16</td>\n",
       "    </tr>\n",
       "  </tbody>\n",
       "</table>\n"
      ],
      "text/plain": [
       "<pandas.io.formats.style.Styler at 0x7fcb48195fa0>"
      ]
     },
     "execution_count": 9,
     "metadata": {},
     "output_type": "execute_result"
    }
   ],
   "source": [
    "statistics_boats(Location=\"Loreto\", Year=2019, \n",
    "                 jpg_folder = \"/Users/realgjl/Desktop/BENV0096/3b_Sharpened_Loreto/2019/\", \n",
    "                 csv_download_folder = \"/Users/realgjl/Desktop/BENV0096/5a_CSVs/\")"
   ]
  },
  {
   "cell_type": "code",
   "execution_count": 10,
   "metadata": {},
   "outputs": [
    {
     "data": {
      "text/html": [
       "<style type=\"text/css\">\n",
       "</style>\n",
       "<table id=\"T_93f8e_\" style='display:inline'>\n",
       "  <caption>Loreto 2020</caption>\n",
       "  <thead>\n",
       "    <tr>\n",
       "      <th class=\"blank level0\" >&nbsp;</th>\n",
       "      <th class=\"col_heading level0 col0\" >Jan</th>\n",
       "      <th class=\"col_heading level0 col1\" >Feb</th>\n",
       "      <th class=\"col_heading level0 col2\" >Mar</th>\n",
       "      <th class=\"col_heading level0 col3\" >Apr</th>\n",
       "      <th class=\"col_heading level0 col4\" >Jun</th>\n",
       "      <th class=\"col_heading level0 col5\" >July</th>\n",
       "      <th class=\"col_heading level0 col6\" >Aug</th>\n",
       "      <th class=\"col_heading level0 col7\" >Sep</th>\n",
       "      <th class=\"col_heading level0 col8\" >Nov</th>\n",
       "    </tr>\n",
       "  </thead>\n",
       "  <tbody>\n",
       "    <tr>\n",
       "      <th id=\"T_93f8e_level0_row0\" class=\"row_heading level0 row0\" >Boats length < 24 meters</th>\n",
       "      <td id=\"T_93f8e_row0_col0\" class=\"data row0 col0\" >18</td>\n",
       "      <td id=\"T_93f8e_row0_col1\" class=\"data row0 col1\" >26</td>\n",
       "      <td id=\"T_93f8e_row0_col2\" class=\"data row0 col2\" >18</td>\n",
       "      <td id=\"T_93f8e_row0_col3\" class=\"data row0 col3\" >30</td>\n",
       "      <td id=\"T_93f8e_row0_col4\" class=\"data row0 col4\" >32</td>\n",
       "      <td id=\"T_93f8e_row0_col5\" class=\"data row0 col5\" >33</td>\n",
       "      <td id=\"T_93f8e_row0_col6\" class=\"data row0 col6\" >20</td>\n",
       "      <td id=\"T_93f8e_row0_col7\" class=\"data row0 col7\" >43</td>\n",
       "      <td id=\"T_93f8e_row0_col8\" class=\"data row0 col8\" >43</td>\n",
       "    </tr>\n",
       "    <tr>\n",
       "      <th id=\"T_93f8e_level0_row1\" class=\"row_heading level0 row1\" >Boats length >= 24 meters</th>\n",
       "      <td id=\"T_93f8e_row1_col0\" class=\"data row1 col0\" >0</td>\n",
       "      <td id=\"T_93f8e_row1_col1\" class=\"data row1 col1\" >0</td>\n",
       "      <td id=\"T_93f8e_row1_col2\" class=\"data row1 col2\" >0</td>\n",
       "      <td id=\"T_93f8e_row1_col3\" class=\"data row1 col3\" >0</td>\n",
       "      <td id=\"T_93f8e_row1_col4\" class=\"data row1 col4\" >0</td>\n",
       "      <td id=\"T_93f8e_row1_col5\" class=\"data row1 col5\" >0</td>\n",
       "      <td id=\"T_93f8e_row1_col6\" class=\"data row1 col6\" >0</td>\n",
       "      <td id=\"T_93f8e_row1_col7\" class=\"data row1 col7\" >1</td>\n",
       "      <td id=\"T_93f8e_row1_col8\" class=\"data row1 col8\" >1</td>\n",
       "    </tr>\n",
       "    <tr>\n",
       "      <th id=\"T_93f8e_level0_row2\" class=\"row_heading level0 row2\" >Small White Boats</th>\n",
       "      <td id=\"T_93f8e_row2_col0\" class=\"data row2 col0\" >18</td>\n",
       "      <td id=\"T_93f8e_row2_col1\" class=\"data row2 col1\" >26</td>\n",
       "      <td id=\"T_93f8e_row2_col2\" class=\"data row2 col2\" >17</td>\n",
       "      <td id=\"T_93f8e_row2_col3\" class=\"data row2 col3\" >28</td>\n",
       "      <td id=\"T_93f8e_row2_col4\" class=\"data row2 col4\" >30</td>\n",
       "      <td id=\"T_93f8e_row2_col5\" class=\"data row2 col5\" >32</td>\n",
       "      <td id=\"T_93f8e_row2_col6\" class=\"data row2 col6\" >20</td>\n",
       "      <td id=\"T_93f8e_row2_col7\" class=\"data row2 col7\" >43</td>\n",
       "      <td id=\"T_93f8e_row2_col8\" class=\"data row2 col8\" >39</td>\n",
       "    </tr>\n",
       "  </tbody>\n",
       "</table>\n"
      ],
      "text/plain": [
       "<pandas.io.formats.style.Styler at 0x7fcb482b28b0>"
      ]
     },
     "execution_count": 10,
     "metadata": {},
     "output_type": "execute_result"
    }
   ],
   "source": [
    "statistics_boats(Location=\"Loreto\", Year=2020, \n",
    "                 jpg_folder = \"/Users/realgjl/Desktop/BENV0096/3b_Sharpened_Loreto/2020/\", \n",
    "                 csv_download_folder = \"/Users/realgjl/Desktop/BENV0096/5a_CSVs/\")"
   ]
  },
  {
   "cell_type": "code",
   "execution_count": 11,
   "metadata": {},
   "outputs": [
    {
     "data": {
      "text/html": [
       "<style type=\"text/css\">\n",
       "</style>\n",
       "<table id=\"T_0b09b_\" style='display:inline'>\n",
       "  <caption>Loreto 2021</caption>\n",
       "  <thead>\n",
       "    <tr>\n",
       "      <th class=\"blank level0\" >&nbsp;</th>\n",
       "      <th class=\"col_heading level0 col0\" >Jan</th>\n",
       "      <th class=\"col_heading level0 col1\" >Feb</th>\n",
       "      <th class=\"col_heading level0 col2\" >Apr</th>\n",
       "    </tr>\n",
       "  </thead>\n",
       "  <tbody>\n",
       "    <tr>\n",
       "      <th id=\"T_0b09b_level0_row0\" class=\"row_heading level0 row0\" >Boats length < 24 meters</th>\n",
       "      <td id=\"T_0b09b_row0_col0\" class=\"data row0 col0\" >16</td>\n",
       "      <td id=\"T_0b09b_row0_col1\" class=\"data row0 col1\" >33</td>\n",
       "      <td id=\"T_0b09b_row0_col2\" class=\"data row0 col2\" >33</td>\n",
       "    </tr>\n",
       "    <tr>\n",
       "      <th id=\"T_0b09b_level0_row1\" class=\"row_heading level0 row1\" >Boats length >= 24 meters</th>\n",
       "      <td id=\"T_0b09b_row1_col0\" class=\"data row1 col0\" >0</td>\n",
       "      <td id=\"T_0b09b_row1_col1\" class=\"data row1 col1\" >0</td>\n",
       "      <td id=\"T_0b09b_row1_col2\" class=\"data row1 col2\" >0</td>\n",
       "    </tr>\n",
       "    <tr>\n",
       "      <th id=\"T_0b09b_level0_row2\" class=\"row_heading level0 row2\" >Small White Boats</th>\n",
       "      <td id=\"T_0b09b_row2_col0\" class=\"data row2 col0\" >16</td>\n",
       "      <td id=\"T_0b09b_row2_col1\" class=\"data row2 col1\" >33</td>\n",
       "      <td id=\"T_0b09b_row2_col2\" class=\"data row2 col2\" >33</td>\n",
       "    </tr>\n",
       "  </tbody>\n",
       "</table>\n"
      ],
      "text/plain": [
       "<pandas.io.formats.style.Styler at 0x7fcb481ebf40>"
      ]
     },
     "execution_count": 11,
     "metadata": {},
     "output_type": "execute_result"
    }
   ],
   "source": [
    "statistics_boats(Location=\"Loreto\", Year=2021, \n",
    "                 jpg_folder = \"/Users/realgjl/Desktop/BENV0096/3b_Sharpened_Loreto/2021/\", \n",
    "                 csv_download_folder = \"/Users/realgjl/Desktop/BENV0096/5a_CSVs/\")"
   ]
  },
  {
   "cell_type": "code",
   "execution_count": 12,
   "metadata": {},
   "outputs": [
    {
     "data": {
      "text/html": [
       "<style type=\"text/css\">\n",
       "</style>\n",
       "<table id=\"T_e574e_\" style='display:inline'>\n",
       "  <caption>Guaymas 2019</caption>\n",
       "  <thead>\n",
       "    <tr>\n",
       "      <th class=\"blank level0\" >&nbsp;</th>\n",
       "      <th class=\"col_heading level0 col0\" >Jan</th>\n",
       "      <th class=\"col_heading level0 col1\" >Feb</th>\n",
       "      <th class=\"col_heading level0 col2\" >Mar</th>\n",
       "      <th class=\"col_heading level0 col3\" >Apr</th>\n",
       "      <th class=\"col_heading level0 col4\" >Jun</th>\n",
       "      <th class=\"col_heading level0 col5\" >July</th>\n",
       "      <th class=\"col_heading level0 col6\" >Sep</th>\n",
       "      <th class=\"col_heading level0 col7\" >Nov</th>\n",
       "    </tr>\n",
       "  </thead>\n",
       "  <tbody>\n",
       "    <tr>\n",
       "      <th id=\"T_e574e_level0_row0\" class=\"row_heading level0 row0\" >Boats length < 24 meters</th>\n",
       "      <td id=\"T_e574e_row0_col0\" class=\"data row0 col0\" >115</td>\n",
       "      <td id=\"T_e574e_row0_col1\" class=\"data row0 col1\" >83</td>\n",
       "      <td id=\"T_e574e_row0_col2\" class=\"data row0 col2\" >99</td>\n",
       "      <td id=\"T_e574e_row0_col3\" class=\"data row0 col3\" >131</td>\n",
       "      <td id=\"T_e574e_row0_col4\" class=\"data row0 col4\" >82</td>\n",
       "      <td id=\"T_e574e_row0_col5\" class=\"data row0 col5\" >107</td>\n",
       "      <td id=\"T_e574e_row0_col6\" class=\"data row0 col6\" >90</td>\n",
       "      <td id=\"T_e574e_row0_col7\" class=\"data row0 col7\" >98</td>\n",
       "    </tr>\n",
       "    <tr>\n",
       "      <th id=\"T_e574e_level0_row1\" class=\"row_heading level0 row1\" >Boats length >= 24 meters</th>\n",
       "      <td id=\"T_e574e_row1_col0\" class=\"data row1 col0\" >31</td>\n",
       "      <td id=\"T_e574e_row1_col1\" class=\"data row1 col1\" >24</td>\n",
       "      <td id=\"T_e574e_row1_col2\" class=\"data row1 col2\" >21</td>\n",
       "      <td id=\"T_e574e_row1_col3\" class=\"data row1 col3\" >24</td>\n",
       "      <td id=\"T_e574e_row1_col4\" class=\"data row1 col4\" >22</td>\n",
       "      <td id=\"T_e574e_row1_col5\" class=\"data row1 col5\" >22</td>\n",
       "      <td id=\"T_e574e_row1_col6\" class=\"data row1 col6\" >21</td>\n",
       "      <td id=\"T_e574e_row1_col7\" class=\"data row1 col7\" >19</td>\n",
       "    </tr>\n",
       "    <tr>\n",
       "      <th id=\"T_e574e_level0_row2\" class=\"row_heading level0 row2\" >Small White Boats</th>\n",
       "      <td id=\"T_e574e_row2_col0\" class=\"data row2 col0\" >112</td>\n",
       "      <td id=\"T_e574e_row2_col1\" class=\"data row2 col1\" >83</td>\n",
       "      <td id=\"T_e574e_row2_col2\" class=\"data row2 col2\" >99</td>\n",
       "      <td id=\"T_e574e_row2_col3\" class=\"data row2 col3\" >131</td>\n",
       "      <td id=\"T_e574e_row2_col4\" class=\"data row2 col4\" >79</td>\n",
       "      <td id=\"T_e574e_row2_col5\" class=\"data row2 col5\" >105</td>\n",
       "      <td id=\"T_e574e_row2_col6\" class=\"data row2 col6\" >89</td>\n",
       "      <td id=\"T_e574e_row2_col7\" class=\"data row2 col7\" >96</td>\n",
       "    </tr>\n",
       "  </tbody>\n",
       "</table>\n"
      ],
      "text/plain": [
       "<pandas.io.formats.style.Styler at 0x7fcb482a0e50>"
      ]
     },
     "execution_count": 12,
     "metadata": {},
     "output_type": "execute_result"
    }
   ],
   "source": [
    "statistics_boats(Location=\"Guaymas\", Year=2019, \n",
    "                 jpg_folder = \"/Users/realgjl/Desktop/BENV0096/3c_Sharpened_Guaymas/2019/\", \n",
    "                 csv_download_folder = \"/Users/realgjl/Desktop/BENV0096/5a_CSVs/\")"
   ]
  },
  {
   "cell_type": "code",
   "execution_count": 13,
   "metadata": {},
   "outputs": [
    {
     "data": {
      "text/html": [
       "<style type=\"text/css\">\n",
       "</style>\n",
       "<table id=\"T_fbe0f_\" style='display:inline'>\n",
       "  <caption>Guaymas 2020</caption>\n",
       "  <thead>\n",
       "    <tr>\n",
       "      <th class=\"blank level0\" >&nbsp;</th>\n",
       "      <th class=\"col_heading level0 col0\" >Jan</th>\n",
       "      <th class=\"col_heading level0 col1\" >Feb</th>\n",
       "      <th class=\"col_heading level0 col2\" >Mar</th>\n",
       "      <th class=\"col_heading level0 col3\" >Apr</th>\n",
       "      <th class=\"col_heading level0 col4\" >May</th>\n",
       "      <th class=\"col_heading level0 col5\" >Jun</th>\n",
       "      <th class=\"col_heading level0 col6\" >July</th>\n",
       "      <th class=\"col_heading level0 col7\" >Aug</th>\n",
       "      <th class=\"col_heading level0 col8\" >Sep</th>\n",
       "      <th class=\"col_heading level0 col9\" >Nov</th>\n",
       "      <th class=\"col_heading level0 col10\" >Dec</th>\n",
       "    </tr>\n",
       "  </thead>\n",
       "  <tbody>\n",
       "    <tr>\n",
       "      <th id=\"T_fbe0f_level0_row0\" class=\"row_heading level0 row0\" >Boats length < 24 meters</th>\n",
       "      <td id=\"T_fbe0f_row0_col0\" class=\"data row0 col0\" >63</td>\n",
       "      <td id=\"T_fbe0f_row0_col1\" class=\"data row0 col1\" >101</td>\n",
       "      <td id=\"T_fbe0f_row0_col2\" class=\"data row0 col2\" >159</td>\n",
       "      <td id=\"T_fbe0f_row0_col3\" class=\"data row0 col3\" >52</td>\n",
       "      <td id=\"T_fbe0f_row0_col4\" class=\"data row0 col4\" >145</td>\n",
       "      <td id=\"T_fbe0f_row0_col5\" class=\"data row0 col5\" >85</td>\n",
       "      <td id=\"T_fbe0f_row0_col6\" class=\"data row0 col6\" >66</td>\n",
       "      <td id=\"T_fbe0f_row0_col7\" class=\"data row0 col7\" >121</td>\n",
       "      <td id=\"T_fbe0f_row0_col8\" class=\"data row0 col8\" >28</td>\n",
       "      <td id=\"T_fbe0f_row0_col9\" class=\"data row0 col9\" >74</td>\n",
       "      <td id=\"T_fbe0f_row0_col10\" class=\"data row0 col10\" >113</td>\n",
       "    </tr>\n",
       "    <tr>\n",
       "      <th id=\"T_fbe0f_level0_row1\" class=\"row_heading level0 row1\" >Boats length >= 24 meters</th>\n",
       "      <td id=\"T_fbe0f_row1_col0\" class=\"data row1 col0\" >18</td>\n",
       "      <td id=\"T_fbe0f_row1_col1\" class=\"data row1 col1\" >13</td>\n",
       "      <td id=\"T_fbe0f_row1_col2\" class=\"data row1 col2\" >15</td>\n",
       "      <td id=\"T_fbe0f_row1_col3\" class=\"data row1 col3\" >13</td>\n",
       "      <td id=\"T_fbe0f_row1_col4\" class=\"data row1 col4\" >21</td>\n",
       "      <td id=\"T_fbe0f_row1_col5\" class=\"data row1 col5\" >4</td>\n",
       "      <td id=\"T_fbe0f_row1_col6\" class=\"data row1 col6\" >13</td>\n",
       "      <td id=\"T_fbe0f_row1_col7\" class=\"data row1 col7\" >22</td>\n",
       "      <td id=\"T_fbe0f_row1_col8\" class=\"data row1 col8\" >15</td>\n",
       "      <td id=\"T_fbe0f_row1_col9\" class=\"data row1 col9\" >28</td>\n",
       "      <td id=\"T_fbe0f_row1_col10\" class=\"data row1 col10\" >15</td>\n",
       "    </tr>\n",
       "    <tr>\n",
       "      <th id=\"T_fbe0f_level0_row2\" class=\"row_heading level0 row2\" >Small White Boats</th>\n",
       "      <td id=\"T_fbe0f_row2_col0\" class=\"data row2 col0\" >63</td>\n",
       "      <td id=\"T_fbe0f_row2_col1\" class=\"data row2 col1\" >101</td>\n",
       "      <td id=\"T_fbe0f_row2_col2\" class=\"data row2 col2\" >138</td>\n",
       "      <td id=\"T_fbe0f_row2_col3\" class=\"data row2 col3\" >52</td>\n",
       "      <td id=\"T_fbe0f_row2_col4\" class=\"data row2 col4\" >142</td>\n",
       "      <td id=\"T_fbe0f_row2_col5\" class=\"data row2 col5\" >79</td>\n",
       "      <td id=\"T_fbe0f_row2_col6\" class=\"data row2 col6\" >66</td>\n",
       "      <td id=\"T_fbe0f_row2_col7\" class=\"data row2 col7\" >119</td>\n",
       "      <td id=\"T_fbe0f_row2_col8\" class=\"data row2 col8\" >25</td>\n",
       "      <td id=\"T_fbe0f_row2_col9\" class=\"data row2 col9\" >66</td>\n",
       "      <td id=\"T_fbe0f_row2_col10\" class=\"data row2 col10\" >108</td>\n",
       "    </tr>\n",
       "  </tbody>\n",
       "</table>\n"
      ],
      "text/plain": [
       "<pandas.io.formats.style.Styler at 0x7fcb481ebe80>"
      ]
     },
     "execution_count": 13,
     "metadata": {},
     "output_type": "execute_result"
    }
   ],
   "source": [
    "statistics_boats(Location=\"Guaymas\", Year=2020, \n",
    "                 jpg_folder = \"/Users/realgjl/Desktop/BENV0096/3c_Sharpened_Guaymas/2020/\", \n",
    "                 csv_download_folder = \"/Users/realgjl/Desktop/BENV0096/5a_CSVs/\")"
   ]
  },
  {
   "cell_type": "code",
   "execution_count": 14,
   "metadata": {},
   "outputs": [
    {
     "data": {
      "text/html": [
       "<style type=\"text/css\">\n",
       "</style>\n",
       "<table id=\"T_b707e_\" style='display:inline'>\n",
       "  <caption>Guaymas 2021</caption>\n",
       "  <thead>\n",
       "    <tr>\n",
       "      <th class=\"blank level0\" >&nbsp;</th>\n",
       "      <th class=\"col_heading level0 col0\" >Feb</th>\n",
       "      <th class=\"col_heading level0 col1\" >Mar</th>\n",
       "      <th class=\"col_heading level0 col2\" >Apr</th>\n",
       "      <th class=\"col_heading level0 col3\" >May</th>\n",
       "    </tr>\n",
       "  </thead>\n",
       "  <tbody>\n",
       "    <tr>\n",
       "      <th id=\"T_b707e_level0_row0\" class=\"row_heading level0 row0\" >Boats length < 24 meters</th>\n",
       "      <td id=\"T_b707e_row0_col0\" class=\"data row0 col0\" >161</td>\n",
       "      <td id=\"T_b707e_row0_col1\" class=\"data row0 col1\" >167</td>\n",
       "      <td id=\"T_b707e_row0_col2\" class=\"data row0 col2\" >144</td>\n",
       "      <td id=\"T_b707e_row0_col3\" class=\"data row0 col3\" >119</td>\n",
       "    </tr>\n",
       "    <tr>\n",
       "      <th id=\"T_b707e_level0_row1\" class=\"row_heading level0 row1\" >Boats length >= 24 meters</th>\n",
       "      <td id=\"T_b707e_row1_col0\" class=\"data row1 col0\" >19</td>\n",
       "      <td id=\"T_b707e_row1_col1\" class=\"data row1 col1\" >33</td>\n",
       "      <td id=\"T_b707e_row1_col2\" class=\"data row1 col2\" >21</td>\n",
       "      <td id=\"T_b707e_row1_col3\" class=\"data row1 col3\" >22</td>\n",
       "    </tr>\n",
       "    <tr>\n",
       "      <th id=\"T_b707e_level0_row2\" class=\"row_heading level0 row2\" >Small White Boats</th>\n",
       "      <td id=\"T_b707e_row2_col0\" class=\"data row2 col0\" >147</td>\n",
       "      <td id=\"T_b707e_row2_col1\" class=\"data row2 col1\" >158</td>\n",
       "      <td id=\"T_b707e_row2_col2\" class=\"data row2 col2\" >144</td>\n",
       "      <td id=\"T_b707e_row2_col3\" class=\"data row2 col3\" >106</td>\n",
       "    </tr>\n",
       "  </tbody>\n",
       "</table>\n"
      ],
      "text/plain": [
       "<pandas.io.formats.style.Styler at 0x7fcb12cffdf0>"
      ]
     },
     "execution_count": 14,
     "metadata": {},
     "output_type": "execute_result"
    }
   ],
   "source": [
    "statistics_boats(Location=\"Guaymas\", Year=2021, \n",
    "                 jpg_folder = \"/Users/realgjl/Desktop/BENV0096/3c_Sharpened_Guaymas/2021/\", \n",
    "                 csv_download_folder = \"/Users/realgjl/Desktop/BENV0096/5a_CSVs/\")"
   ]
  },
  {
   "cell_type": "code",
   "execution_count": null,
   "metadata": {},
   "outputs": [],
   "source": []
  },
  {
   "cell_type": "code",
   "execution_count": null,
   "metadata": {},
   "outputs": [],
   "source": []
  },
  {
   "cell_type": "code",
   "execution_count": null,
   "metadata": {},
   "outputs": [],
   "source": []
  }
 ],
 "metadata": {
  "deepnote": {
   "is_reactive": true
  },
  "deepnote_execution_queue": [],
  "deepnote_notebook_id": "53476a3d-c26f-4fd9-8d45-68452e5265b7",
  "kernelspec": {
   "display_name": "Python 3",
   "language": "python",
   "name": "python3"
  },
  "language_info": {
   "codemirror_mode": {
    "name": "ipython",
    "version": 3
   },
   "file_extension": ".py",
   "mimetype": "text/x-python",
   "name": "python",
   "nbconvert_exporter": "python",
   "pygments_lexer": "ipython3",
   "version": "3.9.5"
  }
 },
 "nbformat": 4,
 "nbformat_minor": 4
}
