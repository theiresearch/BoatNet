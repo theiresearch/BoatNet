{
 "cells": [
  {
   "cell_type": "code",
   "execution_count": 1,
   "metadata": {
    "cell_id": "00000-8cc66df6-45ce-4cfc-b3c9-aedf5ca6cede",
    "deepnote_cell_type": "code",
    "deepnote_to_be_reexecuted": false,
    "execution_millis": 3,
    "execution_start": 1628873995168,
    "source_hash": "aeeebb30",
    "tags": []
   },
   "outputs": [],
   "source": [
    "import pandas as pd\n",
    "import numpy as np\n",
    "import os"
   ]
  },
  {
   "cell_type": "code",
   "execution_count": 2,
   "metadata": {
    "cell_id": "00001-68b63998-f320-4a7f-97f5-09c368f3542f",
    "deepnote_cell_type": "code",
    "deepnote_to_be_reexecuted": false,
    "execution_millis": 1,
    "execution_start": 1628873995174,
    "source_hash": "79b30cfb",
    "tags": []
   },
   "outputs": [],
   "source": [
    "def OrderofYearMonth(file):\n",
    "    return(file[-13:-4])\n",
    "\n",
    "#   Y   Y   Y   Y  M  M  _  X  X\n",
    "# -13 -12 -11 -10 -9 -8 -7 -6 -5"
   ]
  },
  {
   "cell_type": "code",
   "execution_count": 3,
   "metadata": {
    "cell_id": "00004-05498e44-65af-43bf-a317-29195c20fa77",
    "deepnote_cell_type": "code",
    "deepnote_to_be_reexecuted": false,
    "execution_millis": 0,
    "execution_start": 1628873995216,
    "source_hash": "da3e2c4c",
    "tags": []
   },
   "outputs": [],
   "source": [
    "def statistics_boats(Location, Year, home_folder, csv_download_folder):\n",
    "\n",
    "    folder = os.listdir(home_folder)\n",
    "    csv_file_name = csv_download_folder + Location + '_' + str(Year) + '.csv'\n",
    "    list_of_unsorted_files=[]\n",
    "    list_of_files=[]\n",
    "    small = [0,0,0,0,0,0,0,0,0,0,0,0,0]\n",
    "    large = [0,0,0,0,0,0,0,0,0,0,0,0,0]\n",
    "    Months = ['', 'Jan', 'Feb', 'Mar', 'Apr', 'May', 'Jun', 'July', 'Aug', 'Sep', 'Oct', 'Nov', 'Dec']\n",
    "    zero_to_nine = [0,1,2,3,4,5,6,7,8,9]\n",
    "\n",
    "    # Creates pandas DataFrame with empty data of lists\n",
    "    data = {}\n",
    "    Table = pd.DataFrame(data, index =['Boats length < 24 meters','Boats length >= 24 meters'])\n",
    "\n",
    "    # Sorted files\n",
    "    for file in folder:\n",
    "        if file.endswith('txt'): # check the extension of a file\n",
    "            list_of_unsorted_files.append(file)\n",
    "    list_of_files = sorted(list_of_unsorted_files, key = OrderofYearMonth)\n",
    "    #print(list_of_files)\n",
    "\n",
    "\n",
    "    for sorted_file in list_of_files:\n",
    "        for i in range(1,10):\n",
    "            for j in range(0,2):\n",
    "                if sorted_file[-9] == str(j) and sorted_file[-8] == str(i):\n",
    "                    df = pd.read_table(home_folder+sorted_file, delimiter = \" \", names=(\"Boat=0\", \"X\", \"Y\", \"Width\", \"Height\", \"Length\"))\n",
    "                    for len in df['Length']:\n",
    "                        if len < 24:\n",
    "                            small[i+10*j] += 1\n",
    "                        elif len >= 24:\n",
    "                            large[i+10*j] += 1\n",
    "                        Table[Months[i+10*j]] = [small[i+10*j], large[i+10*j]]\n",
    "\n",
    "    # print the data\n",
    "    s = Table.style.set_table_attributes(\"style='display:inline'\").set_caption(Location + \" \" + str(Year))\n",
    "    \n",
    "    # download csv\n",
    "    Table.to_csv(csv_file_name)\n",
    "    \n",
    "    return(s)"
   ]
  },
  {
   "cell_type": "code",
   "execution_count": 4,
   "metadata": {},
   "outputs": [
    {
     "data": {
      "text/plain": [
       "'\\nstatistics_boats(Location=\"\", Year=, \\n                 home_folder = \"\", \\n                 csv_download_folder = \"/Users/realgjl/Desktop/BENV0096/1d_CSVs/\")\\n'"
      ]
     },
     "execution_count": 4,
     "metadata": {},
     "output_type": "execute_result"
    }
   ],
   "source": [
    "\"\"\"\n",
    "statistics_boats(Location=\"\", Year=, \n",
    "                 home_folder = \"\", \n",
    "                 csv_download_folder = \"/Users/realgjl/Desktop/BENV0096/1d_CSVs/\")\n",
    "\"\"\""
   ]
  },
  {
   "cell_type": "code",
   "execution_count": 5,
   "metadata": {
    "cell_id": "00006-4382f282-2035-4485-9f49-543c067cc6b3",
    "deepnote_cell_type": "code",
    "deepnote_to_be_reexecuted": false,
    "execution_millis": 13,
    "execution_start": 1628873995218,
    "source_hash": "411466d4",
    "tags": []
   },
   "outputs": [
    {
     "data": {
      "text/html": [
       "<style type=\"text/css\">\n",
       "</style>\n",
       "<table id=\"T_5145d_\" style='display:inline'>\n",
       "  <caption>SantaRosalia 2019</caption>\n",
       "  <thead>\n",
       "    <tr>\n",
       "      <th class=\"blank level0\" >&nbsp;</th>\n",
       "      <th class=\"col_heading level0 col0\" >Jan</th>\n",
       "      <th class=\"col_heading level0 col1\" >July</th>\n",
       "      <th class=\"col_heading level0 col2\" >Aug</th>\n",
       "      <th class=\"col_heading level0 col3\" >Sep</th>\n",
       "      <th class=\"col_heading level0 col4\" >Dec</th>\n",
       "    </tr>\n",
       "  </thead>\n",
       "  <tbody>\n",
       "    <tr>\n",
       "      <th id=\"T_5145d_level0_row0\" class=\"row_heading level0 row0\" >Boats length < 24 meters</th>\n",
       "      <td id=\"T_5145d_row0_col0\" class=\"data row0 col0\" >22</td>\n",
       "      <td id=\"T_5145d_row0_col1\" class=\"data row0 col1\" >36</td>\n",
       "      <td id=\"T_5145d_row0_col2\" class=\"data row0 col2\" >31</td>\n",
       "      <td id=\"T_5145d_row0_col3\" class=\"data row0 col3\" >28</td>\n",
       "      <td id=\"T_5145d_row0_col4\" class=\"data row0 col4\" >22</td>\n",
       "    </tr>\n",
       "    <tr>\n",
       "      <th id=\"T_5145d_level0_row1\" class=\"row_heading level0 row1\" >Boats length >= 24 meters</th>\n",
       "      <td id=\"T_5145d_row1_col0\" class=\"data row1 col0\" >0</td>\n",
       "      <td id=\"T_5145d_row1_col1\" class=\"data row1 col1\" >2</td>\n",
       "      <td id=\"T_5145d_row1_col2\" class=\"data row1 col2\" >2</td>\n",
       "      <td id=\"T_5145d_row1_col3\" class=\"data row1 col3\" >0</td>\n",
       "      <td id=\"T_5145d_row1_col4\" class=\"data row1 col4\" >2</td>\n",
       "    </tr>\n",
       "  </tbody>\n",
       "</table>\n"
      ],
      "text/plain": [
       "<pandas.io.formats.style.Styler at 0x7fc314a87c70>"
      ]
     },
     "execution_count": 5,
     "metadata": {},
     "output_type": "execute_result"
    }
   ],
   "source": [
    "statistics_boats(Location=\"SantaRosalia\", Year=2019, \n",
    "                 home_folder = \"/Users/realgjl/Desktop/BENV0096/1a_Original_SantaRosalia/2019/labels/\", \n",
    "                 csv_download_folder = \"/Users/realgjl/Desktop/BENV0096/1d_CSVs/\")"
   ]
  },
  {
   "cell_type": "code",
   "execution_count": 6,
   "metadata": {},
   "outputs": [
    {
     "data": {
      "text/html": [
       "<style type=\"text/css\">\n",
       "</style>\n",
       "<table id=\"T_88f8a_\" style='display:inline'>\n",
       "  <caption>SantaRosalia 2020</caption>\n",
       "  <thead>\n",
       "    <tr>\n",
       "      <th class=\"blank level0\" >&nbsp;</th>\n",
       "      <th class=\"col_heading level0 col0\" >Jan</th>\n",
       "      <th class=\"col_heading level0 col1\" >Feb</th>\n",
       "      <th class=\"col_heading level0 col2\" >Mar</th>\n",
       "      <th class=\"col_heading level0 col3\" >Apr</th>\n",
       "      <th class=\"col_heading level0 col4\" >May</th>\n",
       "      <th class=\"col_heading level0 col5\" >Jun</th>\n",
       "      <th class=\"col_heading level0 col6\" >July</th>\n",
       "      <th class=\"col_heading level0 col7\" >Aug</th>\n",
       "      <th class=\"col_heading level0 col8\" >Sep</th>\n",
       "      <th class=\"col_heading level0 col9\" >Nov</th>\n",
       "      <th class=\"col_heading level0 col10\" >Dec</th>\n",
       "    </tr>\n",
       "  </thead>\n",
       "  <tbody>\n",
       "    <tr>\n",
       "      <th id=\"T_88f8a_level0_row0\" class=\"row_heading level0 row0\" >Boats length < 24 meters</th>\n",
       "      <td id=\"T_88f8a_row0_col0\" class=\"data row0 col0\" >26</td>\n",
       "      <td id=\"T_88f8a_row0_col1\" class=\"data row0 col1\" >42</td>\n",
       "      <td id=\"T_88f8a_row0_col2\" class=\"data row0 col2\" >42</td>\n",
       "      <td id=\"T_88f8a_row0_col3\" class=\"data row0 col3\" >43</td>\n",
       "      <td id=\"T_88f8a_row0_col4\" class=\"data row0 col4\" >35</td>\n",
       "      <td id=\"T_88f8a_row0_col5\" class=\"data row0 col5\" >54</td>\n",
       "      <td id=\"T_88f8a_row0_col6\" class=\"data row0 col6\" >66</td>\n",
       "      <td id=\"T_88f8a_row0_col7\" class=\"data row0 col7\" >62</td>\n",
       "      <td id=\"T_88f8a_row0_col8\" class=\"data row0 col8\" >56</td>\n",
       "      <td id=\"T_88f8a_row0_col9\" class=\"data row0 col9\" >35</td>\n",
       "      <td id=\"T_88f8a_row0_col10\" class=\"data row0 col10\" >60</td>\n",
       "    </tr>\n",
       "    <tr>\n",
       "      <th id=\"T_88f8a_level0_row1\" class=\"row_heading level0 row1\" >Boats length >= 24 meters</th>\n",
       "      <td id=\"T_88f8a_row1_col0\" class=\"data row1 col0\" >1</td>\n",
       "      <td id=\"T_88f8a_row1_col1\" class=\"data row1 col1\" >0</td>\n",
       "      <td id=\"T_88f8a_row1_col2\" class=\"data row1 col2\" >0</td>\n",
       "      <td id=\"T_88f8a_row1_col3\" class=\"data row1 col3\" >0</td>\n",
       "      <td id=\"T_88f8a_row1_col4\" class=\"data row1 col4\" >0</td>\n",
       "      <td id=\"T_88f8a_row1_col5\" class=\"data row1 col5\" >0</td>\n",
       "      <td id=\"T_88f8a_row1_col6\" class=\"data row1 col6\" >0</td>\n",
       "      <td id=\"T_88f8a_row1_col7\" class=\"data row1 col7\" >1</td>\n",
       "      <td id=\"T_88f8a_row1_col8\" class=\"data row1 col8\" >0</td>\n",
       "      <td id=\"T_88f8a_row1_col9\" class=\"data row1 col9\" >2</td>\n",
       "      <td id=\"T_88f8a_row1_col10\" class=\"data row1 col10\" >2</td>\n",
       "    </tr>\n",
       "  </tbody>\n",
       "</table>\n"
      ],
      "text/plain": [
       "<pandas.io.formats.style.Styler at 0x7fc314a4c160>"
      ]
     },
     "execution_count": 6,
     "metadata": {},
     "output_type": "execute_result"
    }
   ],
   "source": [
    "statistics_boats(Location=\"SantaRosalia\", Year=2020, \n",
    "                 home_folder = \"/Users/realgjl/Desktop/BENV0096/1a_Original_SantaRosalia/2020/labels/\", \n",
    "                 csv_download_folder = \"/Users/realgjl/Desktop/BENV0096/1d_CSVs/\")\n"
   ]
  },
  {
   "cell_type": "code",
   "execution_count": 7,
   "metadata": {},
   "outputs": [
    {
     "data": {
      "text/html": [
       "<style type=\"text/css\">\n",
       "</style>\n",
       "<table id=\"T_92b34_\" style='display:inline'>\n",
       "  <caption>SantaRosalia 2021</caption>\n",
       "  <thead>\n",
       "    <tr>\n",
       "      <th class=\"blank level0\" >&nbsp;</th>\n",
       "      <th class=\"col_heading level0 col0\" >Apr</th>\n",
       "      <th class=\"col_heading level0 col1\" >May</th>\n",
       "    </tr>\n",
       "  </thead>\n",
       "  <tbody>\n",
       "    <tr>\n",
       "      <th id=\"T_92b34_level0_row0\" class=\"row_heading level0 row0\" >Boats length < 24 meters</th>\n",
       "      <td id=\"T_92b34_row0_col0\" class=\"data row0 col0\" >41</td>\n",
       "      <td id=\"T_92b34_row0_col1\" class=\"data row0 col1\" >46</td>\n",
       "    </tr>\n",
       "    <tr>\n",
       "      <th id=\"T_92b34_level0_row1\" class=\"row_heading level0 row1\" >Boats length >= 24 meters</th>\n",
       "      <td id=\"T_92b34_row1_col0\" class=\"data row1 col0\" >1</td>\n",
       "      <td id=\"T_92b34_row1_col1\" class=\"data row1 col1\" >2</td>\n",
       "    </tr>\n",
       "  </tbody>\n",
       "</table>\n"
      ],
      "text/plain": [
       "<pandas.io.formats.style.Styler at 0x7fc314a4c1f0>"
      ]
     },
     "execution_count": 7,
     "metadata": {},
     "output_type": "execute_result"
    }
   ],
   "source": [
    "statistics_boats(Location=\"SantaRosalia\", Year=2021, \n",
    "                 home_folder = \"/Users/realgjl/Desktop/BENV0096/1a_Original_SantaRosalia/2021/labels/\", \n",
    "                 csv_download_folder = \"/Users/realgjl/Desktop/BENV0096/1d_CSVs/\")"
   ]
  },
  {
   "cell_type": "code",
   "execution_count": 8,
   "metadata": {},
   "outputs": [
    {
     "data": {
      "text/html": [
       "<style type=\"text/css\">\n",
       "</style>\n",
       "<table id=\"T_a04ff_\" style='display:inline'>\n",
       "  <caption>Loreto 2019</caption>\n",
       "  <thead>\n",
       "    <tr>\n",
       "      <th class=\"blank level0\" >&nbsp;</th>\n",
       "      <th class=\"col_heading level0 col0\" >Jan</th>\n",
       "      <th class=\"col_heading level0 col1\" >Apr</th>\n",
       "      <th class=\"col_heading level0 col2\" >Jun</th>\n",
       "      <th class=\"col_heading level0 col3\" >July</th>\n",
       "      <th class=\"col_heading level0 col4\" >Aug</th>\n",
       "      <th class=\"col_heading level0 col5\" >Sep</th>\n",
       "      <th class=\"col_heading level0 col6\" >Nov</th>\n",
       "      <th class=\"col_heading level0 col7\" >Dec</th>\n",
       "    </tr>\n",
       "  </thead>\n",
       "  <tbody>\n",
       "    <tr>\n",
       "      <th id=\"T_a04ff_level0_row0\" class=\"row_heading level0 row0\" >Boats length < 24 meters</th>\n",
       "      <td id=\"T_a04ff_row0_col0\" class=\"data row0 col0\" >32</td>\n",
       "      <td id=\"T_a04ff_row0_col1\" class=\"data row0 col1\" >62</td>\n",
       "      <td id=\"T_a04ff_row0_col2\" class=\"data row0 col2\" >22</td>\n",
       "      <td id=\"T_a04ff_row0_col3\" class=\"data row0 col3\" >41</td>\n",
       "      <td id=\"T_a04ff_row0_col4\" class=\"data row0 col4\" >29</td>\n",
       "      <td id=\"T_a04ff_row0_col5\" class=\"data row0 col5\" >41</td>\n",
       "      <td id=\"T_a04ff_row0_col6\" class=\"data row0 col6\" >42</td>\n",
       "      <td id=\"T_a04ff_row0_col7\" class=\"data row0 col7\" >19</td>\n",
       "    </tr>\n",
       "    <tr>\n",
       "      <th id=\"T_a04ff_level0_row1\" class=\"row_heading level0 row1\" >Boats length >= 24 meters</th>\n",
       "      <td id=\"T_a04ff_row1_col0\" class=\"data row1 col0\" >0</td>\n",
       "      <td id=\"T_a04ff_row1_col1\" class=\"data row1 col1\" >1</td>\n",
       "      <td id=\"T_a04ff_row1_col2\" class=\"data row1 col2\" >0</td>\n",
       "      <td id=\"T_a04ff_row1_col3\" class=\"data row1 col3\" >0</td>\n",
       "      <td id=\"T_a04ff_row1_col4\" class=\"data row1 col4\" >1</td>\n",
       "      <td id=\"T_a04ff_row1_col5\" class=\"data row1 col5\" >0</td>\n",
       "      <td id=\"T_a04ff_row1_col6\" class=\"data row1 col6\" >1</td>\n",
       "      <td id=\"T_a04ff_row1_col7\" class=\"data row1 col7\" >0</td>\n",
       "    </tr>\n",
       "  </tbody>\n",
       "</table>\n"
      ],
      "text/plain": [
       "<pandas.io.formats.style.Styler at 0x7fc3188ffca0>"
      ]
     },
     "execution_count": 8,
     "metadata": {},
     "output_type": "execute_result"
    }
   ],
   "source": [
    "statistics_boats(Location=\"Loreto\", Year=2019, \n",
    "                 home_folder = \"/Users/realgjl/Desktop/BENV0096/1b_Original_Loreto/2019/labels/\", \n",
    "                 csv_download_folder = \"/Users/realgjl/Desktop/BENV0096/1d_CSVs/\")"
   ]
  },
  {
   "cell_type": "code",
   "execution_count": 9,
   "metadata": {},
   "outputs": [
    {
     "data": {
      "text/html": [
       "<style type=\"text/css\">\n",
       "</style>\n",
       "<table id=\"T_f44d6_\" style='display:inline'>\n",
       "  <caption>Loreto 2020</caption>\n",
       "  <thead>\n",
       "    <tr>\n",
       "      <th class=\"blank level0\" >&nbsp;</th>\n",
       "      <th class=\"col_heading level0 col0\" >Jan</th>\n",
       "      <th class=\"col_heading level0 col1\" >Feb</th>\n",
       "      <th class=\"col_heading level0 col2\" >Mar</th>\n",
       "      <th class=\"col_heading level0 col3\" >Apr</th>\n",
       "      <th class=\"col_heading level0 col4\" >Jun</th>\n",
       "      <th class=\"col_heading level0 col5\" >July</th>\n",
       "      <th class=\"col_heading level0 col6\" >Aug</th>\n",
       "      <th class=\"col_heading level0 col7\" >Sep</th>\n",
       "      <th class=\"col_heading level0 col8\" >Nov</th>\n",
       "    </tr>\n",
       "  </thead>\n",
       "  <tbody>\n",
       "    <tr>\n",
       "      <th id=\"T_f44d6_level0_row0\" class=\"row_heading level0 row0\" >Boats length < 24 meters</th>\n",
       "      <td id=\"T_f44d6_row0_col0\" class=\"data row0 col0\" >15</td>\n",
       "      <td id=\"T_f44d6_row0_col1\" class=\"data row0 col1\" >20</td>\n",
       "      <td id=\"T_f44d6_row0_col2\" class=\"data row0 col2\" >17</td>\n",
       "      <td id=\"T_f44d6_row0_col3\" class=\"data row0 col3\" >27</td>\n",
       "      <td id=\"T_f44d6_row0_col4\" class=\"data row0 col4\" >30</td>\n",
       "      <td id=\"T_f44d6_row0_col5\" class=\"data row0 col5\" >29</td>\n",
       "      <td id=\"T_f44d6_row0_col6\" class=\"data row0 col6\" >21</td>\n",
       "      <td id=\"T_f44d6_row0_col7\" class=\"data row0 col7\" >39</td>\n",
       "      <td id=\"T_f44d6_row0_col8\" class=\"data row0 col8\" >44</td>\n",
       "    </tr>\n",
       "    <tr>\n",
       "      <th id=\"T_f44d6_level0_row1\" class=\"row_heading level0 row1\" >Boats length >= 24 meters</th>\n",
       "      <td id=\"T_f44d6_row1_col0\" class=\"data row1 col0\" >0</td>\n",
       "      <td id=\"T_f44d6_row1_col1\" class=\"data row1 col1\" >1</td>\n",
       "      <td id=\"T_f44d6_row1_col2\" class=\"data row1 col2\" >0</td>\n",
       "      <td id=\"T_f44d6_row1_col3\" class=\"data row1 col3\" >0</td>\n",
       "      <td id=\"T_f44d6_row1_col4\" class=\"data row1 col4\" >0</td>\n",
       "      <td id=\"T_f44d6_row1_col5\" class=\"data row1 col5\" >0</td>\n",
       "      <td id=\"T_f44d6_row1_col6\" class=\"data row1 col6\" >1</td>\n",
       "      <td id=\"T_f44d6_row1_col7\" class=\"data row1 col7\" >1</td>\n",
       "      <td id=\"T_f44d6_row1_col8\" class=\"data row1 col8\" >1</td>\n",
       "    </tr>\n",
       "  </tbody>\n",
       "</table>\n"
      ],
      "text/plain": [
       "<pandas.io.formats.style.Styler at 0x7fc317b247c0>"
      ]
     },
     "execution_count": 9,
     "metadata": {},
     "output_type": "execute_result"
    }
   ],
   "source": [
    "statistics_boats(Location=\"Loreto\", Year=2020, \n",
    "                 home_folder = \"/Users/realgjl/Desktop/BENV0096/1b_Original_Loreto/2020/labels/\", \n",
    "                 csv_download_folder = \"/Users/realgjl/Desktop/BENV0096/1d_CSVs/\")"
   ]
  },
  {
   "cell_type": "code",
   "execution_count": 10,
   "metadata": {},
   "outputs": [
    {
     "data": {
      "text/html": [
       "<style type=\"text/css\">\n",
       "</style>\n",
       "<table id=\"T_1ffd2_\" style='display:inline'>\n",
       "  <caption>Loreto 2021</caption>\n",
       "  <thead>\n",
       "    <tr>\n",
       "      <th class=\"blank level0\" >&nbsp;</th>\n",
       "      <th class=\"col_heading level0 col0\" >Jan</th>\n",
       "      <th class=\"col_heading level0 col1\" >Feb</th>\n",
       "      <th class=\"col_heading level0 col2\" >Apr</th>\n",
       "    </tr>\n",
       "  </thead>\n",
       "  <tbody>\n",
       "    <tr>\n",
       "      <th id=\"T_1ffd2_level0_row0\" class=\"row_heading level0 row0\" >Boats length < 24 meters</th>\n",
       "      <td id=\"T_1ffd2_row0_col0\" class=\"data row0 col0\" >13</td>\n",
       "      <td id=\"T_1ffd2_row0_col1\" class=\"data row0 col1\" >32</td>\n",
       "      <td id=\"T_1ffd2_row0_col2\" class=\"data row0 col2\" >28</td>\n",
       "    </tr>\n",
       "    <tr>\n",
       "      <th id=\"T_1ffd2_level0_row1\" class=\"row_heading level0 row1\" >Boats length >= 24 meters</th>\n",
       "      <td id=\"T_1ffd2_row1_col0\" class=\"data row1 col0\" >0</td>\n",
       "      <td id=\"T_1ffd2_row1_col1\" class=\"data row1 col1\" >0</td>\n",
       "      <td id=\"T_1ffd2_row1_col2\" class=\"data row1 col2\" >0</td>\n",
       "    </tr>\n",
       "  </tbody>\n",
       "</table>\n"
      ],
      "text/plain": [
       "<pandas.io.formats.style.Styler at 0x7fc318942250>"
      ]
     },
     "execution_count": 10,
     "metadata": {},
     "output_type": "execute_result"
    }
   ],
   "source": [
    "statistics_boats(Location=\"Loreto\", Year=2021, \n",
    "                 home_folder = \"/Users/realgjl/Desktop/BENV0096/1b_Original_Loreto/2021/labels/\", \n",
    "                 csv_download_folder = \"/Users/realgjl/Desktop/BENV0096/1d_CSVs/\")"
   ]
  },
  {
   "cell_type": "code",
   "execution_count": null,
   "metadata": {},
   "outputs": [],
   "source": []
  },
  {
   "cell_type": "code",
   "execution_count": 11,
   "metadata": {},
   "outputs": [
    {
     "data": {
      "text/html": [
       "<style type=\"text/css\">\n",
       "</style>\n",
       "<table id=\"T_2c36a_\" style='display:inline'>\n",
       "  <caption>Guaymas 2019</caption>\n",
       "  <thead>\n",
       "    <tr>\n",
       "      <th class=\"blank level0\" >&nbsp;</th>\n",
       "      <th class=\"col_heading level0 col0\" >Jan</th>\n",
       "      <th class=\"col_heading level0 col1\" >Feb</th>\n",
       "      <th class=\"col_heading level0 col2\" >Mar</th>\n",
       "      <th class=\"col_heading level0 col3\" >Apr</th>\n",
       "      <th class=\"col_heading level0 col4\" >Jun</th>\n",
       "      <th class=\"col_heading level0 col5\" >July</th>\n",
       "      <th class=\"col_heading level0 col6\" >Sep</th>\n",
       "      <th class=\"col_heading level0 col7\" >Nov</th>\n",
       "    </tr>\n",
       "  </thead>\n",
       "  <tbody>\n",
       "    <tr>\n",
       "      <th id=\"T_2c36a_level0_row0\" class=\"row_heading level0 row0\" >Boats length < 24 meters</th>\n",
       "      <td id=\"T_2c36a_row0_col0\" class=\"data row0 col0\" >97</td>\n",
       "      <td id=\"T_2c36a_row0_col1\" class=\"data row0 col1\" >63</td>\n",
       "      <td id=\"T_2c36a_row0_col2\" class=\"data row0 col2\" >92</td>\n",
       "      <td id=\"T_2c36a_row0_col3\" class=\"data row0 col3\" >118</td>\n",
       "      <td id=\"T_2c36a_row0_col4\" class=\"data row0 col4\" >70</td>\n",
       "      <td id=\"T_2c36a_row0_col5\" class=\"data row0 col5\" >97</td>\n",
       "      <td id=\"T_2c36a_row0_col6\" class=\"data row0 col6\" >61</td>\n",
       "      <td id=\"T_2c36a_row0_col7\" class=\"data row0 col7\" >98</td>\n",
       "    </tr>\n",
       "    <tr>\n",
       "      <th id=\"T_2c36a_level0_row1\" class=\"row_heading level0 row1\" >Boats length >= 24 meters</th>\n",
       "      <td id=\"T_2c36a_row1_col0\" class=\"data row1 col0\" >31</td>\n",
       "      <td id=\"T_2c36a_row1_col1\" class=\"data row1 col1\" >27</td>\n",
       "      <td id=\"T_2c36a_row1_col2\" class=\"data row1 col2\" >23</td>\n",
       "      <td id=\"T_2c36a_row1_col3\" class=\"data row1 col3\" >27</td>\n",
       "      <td id=\"T_2c36a_row1_col4\" class=\"data row1 col4\" >21</td>\n",
       "      <td id=\"T_2c36a_row1_col5\" class=\"data row1 col5\" >25</td>\n",
       "      <td id=\"T_2c36a_row1_col6\" class=\"data row1 col6\" >19</td>\n",
       "      <td id=\"T_2c36a_row1_col7\" class=\"data row1 col7\" >29</td>\n",
       "    </tr>\n",
       "  </tbody>\n",
       "</table>\n"
      ],
      "text/plain": [
       "<pandas.io.formats.style.Styler at 0x7fc318942280>"
      ]
     },
     "execution_count": 11,
     "metadata": {},
     "output_type": "execute_result"
    }
   ],
   "source": [
    "statistics_boats(Location=\"Guaymas\", Year=2019, \n",
    "                 home_folder = \"/Users/realgjl/Desktop/BENV0096/1c_Original_Guaymas/2019/labels/\", \n",
    "                 csv_download_folder = \"/Users/realgjl/Desktop/BENV0096/1d_CSVs/\")"
   ]
  },
  {
   "cell_type": "code",
   "execution_count": 12,
   "metadata": {},
   "outputs": [
    {
     "data": {
      "text/html": [
       "<style type=\"text/css\">\n",
       "</style>\n",
       "<table id=\"T_60ed7_\" style='display:inline'>\n",
       "  <caption>Guaymas 2020</caption>\n",
       "  <thead>\n",
       "    <tr>\n",
       "      <th class=\"blank level0\" >&nbsp;</th>\n",
       "      <th class=\"col_heading level0 col0\" >Jan</th>\n",
       "      <th class=\"col_heading level0 col1\" >Feb</th>\n",
       "      <th class=\"col_heading level0 col2\" >Mar</th>\n",
       "      <th class=\"col_heading level0 col3\" >Apr</th>\n",
       "      <th class=\"col_heading level0 col4\" >May</th>\n",
       "      <th class=\"col_heading level0 col5\" >Jun</th>\n",
       "      <th class=\"col_heading level0 col6\" >July</th>\n",
       "      <th class=\"col_heading level0 col7\" >Aug</th>\n",
       "      <th class=\"col_heading level0 col8\" >Sep</th>\n",
       "      <th class=\"col_heading level0 col9\" >Nov</th>\n",
       "      <th class=\"col_heading level0 col10\" >Dec</th>\n",
       "    </tr>\n",
       "  </thead>\n",
       "  <tbody>\n",
       "    <tr>\n",
       "      <th id=\"T_60ed7_level0_row0\" class=\"row_heading level0 row0\" >Boats length < 24 meters</th>\n",
       "      <td id=\"T_60ed7_row0_col0\" class=\"data row0 col0\" >60</td>\n",
       "      <td id=\"T_60ed7_row0_col1\" class=\"data row0 col1\" >141</td>\n",
       "      <td id=\"T_60ed7_row0_col2\" class=\"data row0 col2\" >147</td>\n",
       "      <td id=\"T_60ed7_row0_col3\" class=\"data row0 col3\" >56</td>\n",
       "      <td id=\"T_60ed7_row0_col4\" class=\"data row0 col4\" >132</td>\n",
       "      <td id=\"T_60ed7_row0_col5\" class=\"data row0 col5\" >87</td>\n",
       "      <td id=\"T_60ed7_row0_col6\" class=\"data row0 col6\" >41</td>\n",
       "      <td id=\"T_60ed7_row0_col7\" class=\"data row0 col7\" >93</td>\n",
       "      <td id=\"T_60ed7_row0_col8\" class=\"data row0 col8\" >26</td>\n",
       "      <td id=\"T_60ed7_row0_col9\" class=\"data row0 col9\" >64</td>\n",
       "      <td id=\"T_60ed7_row0_col10\" class=\"data row0 col10\" >82</td>\n",
       "    </tr>\n",
       "    <tr>\n",
       "      <th id=\"T_60ed7_level0_row1\" class=\"row_heading level0 row1\" >Boats length >= 24 meters</th>\n",
       "      <td id=\"T_60ed7_row1_col0\" class=\"data row1 col0\" >20</td>\n",
       "      <td id=\"T_60ed7_row1_col1\" class=\"data row1 col1\" >18</td>\n",
       "      <td id=\"T_60ed7_row1_col2\" class=\"data row1 col2\" >16</td>\n",
       "      <td id=\"T_60ed7_row1_col3\" class=\"data row1 col3\" >23</td>\n",
       "      <td id=\"T_60ed7_row1_col4\" class=\"data row1 col4\" >20</td>\n",
       "      <td id=\"T_60ed7_row1_col5\" class=\"data row1 col5\" >5</td>\n",
       "      <td id=\"T_60ed7_row1_col6\" class=\"data row1 col6\" >14</td>\n",
       "      <td id=\"T_60ed7_row1_col7\" class=\"data row1 col7\" >22</td>\n",
       "      <td id=\"T_60ed7_row1_col8\" class=\"data row1 col8\" >19</td>\n",
       "      <td id=\"T_60ed7_row1_col9\" class=\"data row1 col9\" >30</td>\n",
       "      <td id=\"T_60ed7_row1_col10\" class=\"data row1 col10\" >18</td>\n",
       "    </tr>\n",
       "  </tbody>\n",
       "</table>\n"
      ],
      "text/plain": [
       "<pandas.io.formats.style.Styler at 0x7fc31897e160>"
      ]
     },
     "execution_count": 12,
     "metadata": {},
     "output_type": "execute_result"
    }
   ],
   "source": [
    "statistics_boats(Location=\"Guaymas\", Year=2020, \n",
    "                 home_folder = \"/Users/realgjl/Desktop/BENV0096/1c_Original_Guaymas/2020/labels/\", \n",
    "                 csv_download_folder = \"/Users/realgjl/Desktop/BENV0096/1d_CSVs/\")"
   ]
  },
  {
   "cell_type": "code",
   "execution_count": 13,
   "metadata": {},
   "outputs": [
    {
     "data": {
      "text/html": [
       "<style type=\"text/css\">\n",
       "</style>\n",
       "<table id=\"T_42669_\" style='display:inline'>\n",
       "  <caption>Guaymas 2021</caption>\n",
       "  <thead>\n",
       "    <tr>\n",
       "      <th class=\"blank level0\" >&nbsp;</th>\n",
       "      <th class=\"col_heading level0 col0\" >Feb</th>\n",
       "      <th class=\"col_heading level0 col1\" >Mar</th>\n",
       "      <th class=\"col_heading level0 col2\" >Apr</th>\n",
       "      <th class=\"col_heading level0 col3\" >May</th>\n",
       "    </tr>\n",
       "  </thead>\n",
       "  <tbody>\n",
       "    <tr>\n",
       "      <th id=\"T_42669_level0_row0\" class=\"row_heading level0 row0\" >Boats length < 24 meters</th>\n",
       "      <td id=\"T_42669_row0_col0\" class=\"data row0 col0\" >159</td>\n",
       "      <td id=\"T_42669_row0_col1\" class=\"data row0 col1\" >169</td>\n",
       "      <td id=\"T_42669_row0_col2\" class=\"data row0 col2\" >156</td>\n",
       "      <td id=\"T_42669_row0_col3\" class=\"data row0 col3\" >137</td>\n",
       "    </tr>\n",
       "    <tr>\n",
       "      <th id=\"T_42669_level0_row1\" class=\"row_heading level0 row1\" >Boats length >= 24 meters</th>\n",
       "      <td id=\"T_42669_row1_col0\" class=\"data row1 col0\" >21</td>\n",
       "      <td id=\"T_42669_row1_col1\" class=\"data row1 col1\" >32</td>\n",
       "      <td id=\"T_42669_row1_col2\" class=\"data row1 col2\" >23</td>\n",
       "      <td id=\"T_42669_row1_col3\" class=\"data row1 col3\" >26</td>\n",
       "    </tr>\n",
       "  </tbody>\n",
       "</table>\n"
      ],
      "text/plain": [
       "<pandas.io.formats.style.Styler at 0x7fc31897ef40>"
      ]
     },
     "execution_count": 13,
     "metadata": {},
     "output_type": "execute_result"
    }
   ],
   "source": [
    "statistics_boats(Location=\"Guaymas\", Year=2021, \n",
    "                 home_folder = \"/Users/realgjl/Desktop/BENV0096/1c_Original_Guaymas/2021/labels/\", \n",
    "                 csv_download_folder = \"/Users/realgjl/Desktop/BENV0096/1d_CSVs/\")"
   ]
  },
  {
   "cell_type": "code",
   "execution_count": null,
   "metadata": {},
   "outputs": [],
   "source": []
  },
  {
   "cell_type": "code",
   "execution_count": null,
   "metadata": {},
   "outputs": [],
   "source": []
  },
  {
   "cell_type": "code",
   "execution_count": null,
   "metadata": {},
   "outputs": [],
   "source": []
  }
 ],
 "metadata": {
  "deepnote": {
   "is_reactive": true
  },
  "deepnote_execution_queue": [],
  "deepnote_notebook_id": "53476a3d-c26f-4fd9-8d45-68452e5265b7",
  "kernelspec": {
   "display_name": "Python 3",
   "language": "python",
   "name": "python3"
  },
  "language_info": {
   "codemirror_mode": {
    "name": "ipython",
    "version": 3
   },
   "file_extension": ".py",
   "mimetype": "text/x-python",
   "name": "python",
   "nbconvert_exporter": "python",
   "pygments_lexer": "ipython3",
   "version": "3.9.5"
  }
 },
 "nbformat": 4,
 "nbformat_minor": 4
}
